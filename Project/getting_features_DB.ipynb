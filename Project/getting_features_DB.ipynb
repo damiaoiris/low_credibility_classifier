{
 "cells": [
  {
   "cell_type": "code",
   "execution_count": 1,
   "metadata": {},
   "outputs": [
    {
     "name": "stdout",
     "output_type": "stream",
     "text": [
      "pyasn(ipasndb:'ipasn_data'; asnames:'None') - 976551 prefixes\n",
      "pyasn(ipasndb:'ipasn_data'; asnames:'None') - 976551 prefixes\n"
     ]
    }
   ],
   "source": [
    "import os\n",
    "from datetime import datetime\n",
    "from pathlib import Path\n",
    "from data.constants import sites_to_test\n",
    "from data.collector import Collector\n",
    "from util.utils_DB import RawDB\n",
    "from make_features_DB import FeaturesFetcher\n",
    "import warnings\n",
    "warnings.filterwarnings(\"ignore\")\n",
    "import pandas as pd"
   ]
  },
  {
   "attachments": {},
   "cell_type": "markdown",
   "metadata": {},
   "source": [
    "### 1. Get raw data"
   ]
  },
  {
   "cell_type": "code",
   "execution_count": 2,
   "metadata": {},
   "outputs": [],
   "source": [
    "fake = RawDB(\"FN_trial_10\")"
   ]
  },
  {
   "cell_type": "code",
   "execution_count": 3,
   "metadata": {},
   "outputs": [
    {
     "data": {
      "text/html": [
       "<div>\n",
       "<style scoped>\n",
       "    .dataframe tbody tr th:only-of-type {\n",
       "        vertical-align: middle;\n",
       "    }\n",
       "\n",
       "    .dataframe tbody tr th {\n",
       "        vertical-align: top;\n",
       "    }\n",
       "\n",
       "    .dataframe thead th {\n",
       "        text-align: right;\n",
       "    }\n",
       "</style>\n",
       "<table border=\"1\" class=\"dataframe\">\n",
       "  <thead>\n",
       "    <tr style=\"text-align: right;\">\n",
       "      <th></th>\n",
       "      <th>site_url</th>\n",
       "      <th>visit_id</th>\n",
       "      <th>domain</th>\n",
       "      <th>html_path</th>\n",
       "      <th>target</th>\n",
       "    </tr>\n",
       "  </thead>\n",
       "  <tbody>\n",
       "    <tr>\n",
       "      <th>0</th>\n",
       "      <td>https://horabrasilia.com.br</td>\n",
       "      <td>29548192589631</td>\n",
       "      <td>horabrasilia.com.br</td>\n",
       "      <td>/Users/irisdamiao/model/Project/results/FN_tri...</td>\n",
       "      <td>disinformation</td>\n",
       "    </tr>\n",
       "    <tr>\n",
       "      <th>1</th>\n",
       "      <td>http://stuppid.com/</td>\n",
       "      <td>242668401555471</td>\n",
       "      <td>stuppid.com</td>\n",
       "      <td>/Users/irisdamiao/model/Project/results/FN_tri...</td>\n",
       "      <td>disinformation</td>\n",
       "    </tr>\n",
       "    <tr>\n",
       "      <th>2</th>\n",
       "      <td>https://kan.org.il</td>\n",
       "      <td>321145765441852</td>\n",
       "      <td>kan.org.il</td>\n",
       "      <td>/Users/irisdamiao/model/Project/results/FN_tri...</td>\n",
       "      <td>disinformation</td>\n",
       "    </tr>\n",
       "  </tbody>\n",
       "</table>\n",
       "</div>"
      ],
      "text/plain": [
       "                      site_url         visit_id               domain  \\\n",
       "0  https://horabrasilia.com.br   29548192589631  horabrasilia.com.br   \n",
       "1          http://stuppid.com/  242668401555471          stuppid.com   \n",
       "2           https://kan.org.il  321145765441852           kan.org.il   \n",
       "\n",
       "                                           html_path          target  \n",
       "0  /Users/irisdamiao/model/Project/results/FN_tri...  disinformation  \n",
       "1  /Users/irisdamiao/model/Project/results/FN_tri...  disinformation  \n",
       "2  /Users/irisdamiao/model/Project/results/FN_tri...  disinformation  "
      ]
     },
     "execution_count": 3,
     "metadata": {},
     "output_type": "execute_result"
    }
   ],
   "source": [
    "fake[\"target\"] = [\"disinformation\"]*len(fake)\n",
    "fake.head(3)"
   ]
  },
  {
   "cell_type": "code",
   "execution_count": 4,
   "metadata": {},
   "outputs": [],
   "source": [
    "not_fake = RawDB(\"NFN_test_trial_1\")"
   ]
  },
  {
   "cell_type": "code",
   "execution_count": 5,
   "metadata": {},
   "outputs": [
    {
     "data": {
      "text/html": [
       "<div>\n",
       "<style scoped>\n",
       "    .dataframe tbody tr th:only-of-type {\n",
       "        vertical-align: middle;\n",
       "    }\n",
       "\n",
       "    .dataframe tbody tr th {\n",
       "        vertical-align: top;\n",
       "    }\n",
       "\n",
       "    .dataframe thead th {\n",
       "        text-align: right;\n",
       "    }\n",
       "</style>\n",
       "<table border=\"1\" class=\"dataframe\">\n",
       "  <thead>\n",
       "    <tr style=\"text-align: right;\">\n",
       "      <th></th>\n",
       "      <th>site_url</th>\n",
       "      <th>visit_id</th>\n",
       "      <th>domain</th>\n",
       "      <th>html_path</th>\n",
       "      <th>target</th>\n",
       "    </tr>\n",
       "  </thead>\n",
       "  <tbody>\n",
       "    <tr>\n",
       "      <th>0</th>\n",
       "      <td>http://rutan.dev</td>\n",
       "      <td>4842208396870</td>\n",
       "      <td>rutan.dev</td>\n",
       "      <td>/Users/irisdamiao/model/Project/results/NFN_te...</td>\n",
       "      <td>non_disinformation</td>\n",
       "    </tr>\n",
       "    <tr>\n",
       "      <th>1</th>\n",
       "      <td>https://www.timescall.com</td>\n",
       "      <td>6828023477509</td>\n",
       "      <td>timescall.com</td>\n",
       "      <td>/Users/irisdamiao/model/Project/results/NFN_te...</td>\n",
       "      <td>non_disinformation</td>\n",
       "    </tr>\n",
       "    <tr>\n",
       "      <th>2</th>\n",
       "      <td>http://magizoo.ru</td>\n",
       "      <td>52005673926429</td>\n",
       "      <td>magizoo.ru</td>\n",
       "      <td>/Users/irisdamiao/model/Project/results/NFN_te...</td>\n",
       "      <td>non_disinformation</td>\n",
       "    </tr>\n",
       "  </tbody>\n",
       "</table>\n",
       "</div>"
      ],
      "text/plain": [
       "                    site_url        visit_id         domain  \\\n",
       "0           http://rutan.dev   4842208396870      rutan.dev   \n",
       "1  https://www.timescall.com   6828023477509  timescall.com   \n",
       "2          http://magizoo.ru  52005673926429     magizoo.ru   \n",
       "\n",
       "                                           html_path              target  \n",
       "0  /Users/irisdamiao/model/Project/results/NFN_te...  non_disinformation  \n",
       "1  /Users/irisdamiao/model/Project/results/NFN_te...  non_disinformation  \n",
       "2  /Users/irisdamiao/model/Project/results/NFN_te...  non_disinformation  "
      ]
     },
     "execution_count": 5,
     "metadata": {},
     "output_type": "execute_result"
    }
   ],
   "source": [
    "not_fake[\"target\"] = [\"non_disinformation\"]*len(not_fake)\n",
    "not_fake.head(3)"
   ]
  },
  {
   "cell_type": "markdown",
   "metadata": {},
   "source": [
    "### 2. Get features"
   ]
  },
  {
   "cell_type": "code",
   "execution_count": 6,
   "metadata": {},
   "outputs": [
    {
     "name": "stderr",
     "output_type": "stream",
     "text": [
      "MetadataParser.fetch_url(https://horabrasilia.com.br)\n",
      "MetadataParser.fetch_url(http://stuppid.com/)\n"
     ]
    },
    {
     "ename": "KeyboardInterrupt",
     "evalue": "",
     "output_type": "error",
     "traceback": [
      "\u001b[0;31m---------------------------------------------------------------------------\u001b[0m",
      "\u001b[0;31mKeyboardInterrupt\u001b[0m                         Traceback (most recent call last)",
      "Cell \u001b[0;32mIn[6], line 1\u001b[0m\n\u001b[0;32m----> 1\u001b[0m results_fake \u001b[39m=\u001b[39m FeaturesFetcher\u001b[39m.\u001b[39;49mget_features(resp \u001b[39m=\u001b[39;49m fake, desired_features\u001b[39m=\u001b[39;49m[\u001b[39m\"\u001b[39;49m\u001b[39mhtml_features\u001b[39;49m\u001b[39m\"\u001b[39;49m, \u001b[39m\"\u001b[39;49m\u001b[39mdomain_features\u001b[39;49m\u001b[39m\"\u001b[39;49m, \u001b[39m\"\u001b[39;49m\u001b[39mcert_features\u001b[39;49m\u001b[39m\"\u001b[39;49m, \u001b[39m\"\u001b[39;49m\u001b[39mwhois_features\u001b[39;49m\u001b[39m\"\u001b[39;49m])\n",
      "File \u001b[0;32m~/model/Project/make_features_DB.py:92\u001b[0m, in \u001b[0;36mFeaturesFetcher.get_features\u001b[0;34m(resp, desired_features)\u001b[0m\n\u001b[1;32m     87\u001b[0m     features \u001b[39m=\u001b[39m DomainFeatures\u001b[39m.\u001b[39mget_features(feature_names\u001b[39m=\u001b[39mfeature_names,\n\u001b[1;32m     88\u001b[0m                                         raw_data\u001b[39m=\u001b[39mFeaturesFetcher\u001b[39m.\u001b[39mfetch_domain_features(row\u001b[39m.\u001b[39mdomain),\n\u001b[1;32m     89\u001b[0m                                         available\u001b[39m=\u001b[39m\u001b[39mTrue\u001b[39;00m,\n\u001b[1;32m     90\u001b[0m                                         domain\u001b[39m=\u001b[39mrow\u001b[39m.\u001b[39mdomain)\n\u001b[1;32m     91\u001b[0m \u001b[39melif\u001b[39;00m name \u001b[39m==\u001b[39m \u001b[39m'\u001b[39m\u001b[39mhtml_features\u001b[39m\u001b[39m'\u001b[39m:\n\u001b[0;32m---> 92\u001b[0m     features \u001b[39m=\u001b[39m HTMLFeatures\u001b[39m.\u001b[39;49mget_features(feature_names\u001b[39m=\u001b[39;49mfeature_names,\n\u001b[1;32m     93\u001b[0m                                         raw_data\u001b[39m=\u001b[39;49mrow\u001b[39m.\u001b[39;49mhtml_path,\n\u001b[1;32m     94\u001b[0m                                         domain\u001b[39m=\u001b[39;49mrow\u001b[39m.\u001b[39;49msite_url)\n\u001b[1;32m     95\u001b[0m \u001b[39melif\u001b[39;00m name \u001b[39m==\u001b[39m \u001b[39m'\u001b[39m\u001b[39mcert_features\u001b[39m\u001b[39m'\u001b[39m: \n\u001b[1;32m     96\u001b[0m     features \u001b[39m=\u001b[39m CertificateFeatures\u001b[39m.\u001b[39mget_features(feature_names\u001b[39m=\u001b[39mfeature_names,\n\u001b[1;32m     97\u001b[0m                                             raw_data\u001b[39m=\u001b[39mFeaturesFetcher\u001b[39m.\u001b[39mfetch_certificate(row\u001b[39m.\u001b[39mdomain),\n\u001b[1;32m     98\u001b[0m                                             available\u001b[39m=\u001b[39m\u001b[39mTrue\u001b[39;00m,\n\u001b[1;32m     99\u001b[0m                                             domain\u001b[39m=\u001b[39mrow\u001b[39m.\u001b[39mdomain)\n",
      "File \u001b[0;32m~/model/Project/features/html_features.py:175\u001b[0m, in \u001b[0;36mHTMLFeatures.get_features\u001b[0;34m(feature_names, raw_data, domain)\u001b[0m\n\u001b[1;32m    173\u001b[0m \u001b[39mif\u001b[39;00m features[\u001b[39m\"\u001b[39m\u001b[39mmeta_tags\u001b[39m\u001b[39m\"\u001b[39m]:\n\u001b[1;32m    174\u001b[0m     \u001b[39mtry\u001b[39;00m:\n\u001b[0;32m--> 175\u001b[0m         meta \u001b[39m=\u001b[39m HTMLFeatures\u001b[39m.\u001b[39;49mmeta_tags(domain)\n\u001b[1;32m    176\u001b[0m     \u001b[39mexcept\u001b[39;00m \u001b[39mException\u001b[39;00m \u001b[39mas\u001b[39;00m e:\n\u001b[1;32m    177\u001b[0m         meta \u001b[39m=\u001b[39m \u001b[39mNone\u001b[39;00m\n",
      "File \u001b[0;32m~/model/Project/features/html_features.py:87\u001b[0m, in \u001b[0;36mHTMLFeatures.meta_tags\u001b[0;34m(url)\u001b[0m\n\u001b[1;32m     85\u001b[0m response \u001b[39m=\u001b[39m requests\u001b[39m.\u001b[39mget(url, timeout\u001b[39m=\u001b[39m\u001b[39m50\u001b[39m)\n\u001b[1;32m     86\u001b[0m \u001b[39mif\u001b[39;00m response\u001b[39m.\u001b[39mstatus_code \u001b[39m==\u001b[39m \u001b[39m200\u001b[39m:\n\u001b[0;32m---> 87\u001b[0m     page_meta \u001b[39m=\u001b[39m metadata_parser\u001b[39m.\u001b[39;49mMetadataParser(url)\u001b[39m.\u001b[39mmetadata\n\u001b[1;32m     88\u001b[0m     \u001b[39m# og tags when specified determine how the share of the url in social media will look like\u001b[39;00m\n\u001b[1;32m     89\u001b[0m     meta_og \u001b[39m=\u001b[39m page_meta[\u001b[39m\"\u001b[39m\u001b[39mog\u001b[39m\u001b[39m\"\u001b[39m]\n",
      "File \u001b[0;32m~/opt/anaconda3/envs/openwpm/lib/python3.10/site-packages/metadata_parser/__init__.py:1540\u001b[0m, in \u001b[0;36mMetadataParser.__init__\u001b[0;34m(self, url, html, strategy, url_data, url_headers, force_parse, ssl_verify, only_parse_file_extensions, force_parse_invalid_content_type, require_public_netloc, allow_localhosts, force_doctype, requests_timeout, raise_on_invalid, search_head_only, allow_redirects, requests_session, only_parse_http_ok, defer_fetch, derive_encoding, html_encoding, default_encoding, default_encoder, retry_dropped_without_headers, support_malformed, cached_urlparser)\u001b[0m\n\u001b[1;32m   1537\u001b[0m         html \u001b[39m=\u001b[39m \u001b[39m\"\u001b[39m\u001b[39m\"\u001b[39m\n\u001b[1;32m   1539\u001b[0m \u001b[39mif\u001b[39;00m html:\n\u001b[0;32m-> 1540\u001b[0m     \u001b[39mself\u001b[39;49m\u001b[39m.\u001b[39;49mparse(\n\u001b[1;32m   1541\u001b[0m         html,\n\u001b[1;32m   1542\u001b[0m         html_encoding\u001b[39m=\u001b[39;49mhtml_encoding,\n\u001b[1;32m   1543\u001b[0m         support_malformed\u001b[39m=\u001b[39;49msupport_malformed,\n\u001b[1;32m   1544\u001b[0m         response_history\u001b[39m=\u001b[39;49m_response_history,\n\u001b[1;32m   1545\u001b[0m     )\n",
      "File \u001b[0;32m~/opt/anaconda3/envs/openwpm/lib/python3.10/site-packages/metadata_parser/__init__.py:1983\u001b[0m, in \u001b[0;36mMetadataParser.parse\u001b[0;34m(self, html, html_encoding, support_malformed, response_history)\u001b[0m\n\u001b[1;32m   1980\u001b[0m     html \u001b[39m=\u001b[39m RE_doctype\u001b[39m.\u001b[39msub(\u001b[39m\"\u001b[39m\u001b[39m<!DOCTYPE html>\u001b[39m\u001b[39m\"\u001b[39m, html)\n\u001b[1;32m   1982\u001b[0m \u001b[39mtry\u001b[39;00m:\n\u001b[0;32m-> 1983\u001b[0m     doc \u001b[39m=\u001b[39m \u001b[39mself\u001b[39;49m\u001b[39m.\u001b[39;49mmake_soup(html, \u001b[39m*\u001b[39;49m\u001b[39m*\u001b[39;49mkwargs_bs)\n\u001b[1;32m   1984\u001b[0m \u001b[39mexcept\u001b[39;00m \u001b[39mException\u001b[39;00m \u001b[39mas\u001b[39;00m exc:\n\u001b[1;32m   1985\u001b[0m     log\u001b[39m.\u001b[39merror(\u001b[39m\"\u001b[39m\u001b[39mCould not make soup of HTML: \u001b[39m\u001b[39m%s\u001b[39;00m\u001b[39m\"\u001b[39m, exc)\n",
      "File \u001b[0;32m~/opt/anaconda3/envs/openwpm/lib/python3.10/site-packages/metadata_parser/__init__.py:1941\u001b[0m, in \u001b[0;36mMetadataParser.make_soup\u001b[0;34m(self, html, **kwargs_bs)\u001b[0m\n\u001b[1;32m   1921\u001b[0m \u001b[39m\u001b[39m\u001b[39m\"\"\"\u001b[39;00m\n\u001b[1;32m   1922\u001b[0m \u001b[39mTurns an HTML string into a BeautifulSoup document.\u001b[39;00m\n\u001b[1;32m   1923\u001b[0m \n\u001b[0;32m   (...)\u001b[0m\n\u001b[1;32m   1938\u001b[0m \u001b[39m            return doc\u001b[39;00m\n\u001b[1;32m   1939\u001b[0m \u001b[39m\"\"\"\u001b[39;00m\n\u001b[1;32m   1940\u001b[0m \u001b[39mtry\u001b[39;00m:\n\u001b[0;32m-> 1941\u001b[0m     doc \u001b[39m=\u001b[39m BeautifulSoup(html, \u001b[39m\"\u001b[39;49m\u001b[39mlxml\u001b[39;49m\u001b[39m\"\u001b[39;49m, \u001b[39m*\u001b[39;49m\u001b[39m*\u001b[39;49mkwargs_bs)\n\u001b[1;32m   1942\u001b[0m \u001b[39mexcept\u001b[39;00m \u001b[39mException\u001b[39;00m \u001b[39mas\u001b[39;00m exc:  \u001b[39m# noqa: F841\u001b[39;00m\n\u001b[1;32m   1943\u001b[0m     \u001b[39mif\u001b[39;00m __debug__:\n",
      "File \u001b[0;32m~/opt/anaconda3/envs/openwpm/lib/python3.10/site-packages/bs4/__init__.py:333\u001b[0m, in \u001b[0;36mBeautifulSoup.__init__\u001b[0;34m(self, markup, features, builder, parse_only, from_encoding, exclude_encodings, element_classes, **kwargs)\u001b[0m\n\u001b[1;32m    331\u001b[0m \u001b[39mself\u001b[39m\u001b[39m.\u001b[39mbuilder\u001b[39m.\u001b[39minitialize_soup(\u001b[39mself\u001b[39m)\n\u001b[1;32m    332\u001b[0m \u001b[39mtry\u001b[39;00m:\n\u001b[0;32m--> 333\u001b[0m     \u001b[39mself\u001b[39;49m\u001b[39m.\u001b[39;49m_feed()\n\u001b[1;32m    334\u001b[0m     success \u001b[39m=\u001b[39m \u001b[39mTrue\u001b[39;00m\n\u001b[1;32m    335\u001b[0m     \u001b[39mbreak\u001b[39;00m\n",
      "File \u001b[0;32m~/opt/anaconda3/envs/openwpm/lib/python3.10/site-packages/bs4/__init__.py:451\u001b[0m, in \u001b[0;36mBeautifulSoup._feed\u001b[0;34m(self)\u001b[0m\n\u001b[1;32m    448\u001b[0m \u001b[39m# Convert the document to Unicode.\u001b[39;00m\n\u001b[1;32m    449\u001b[0m \u001b[39mself\u001b[39m\u001b[39m.\u001b[39mbuilder\u001b[39m.\u001b[39mreset()\n\u001b[0;32m--> 451\u001b[0m \u001b[39mself\u001b[39;49m\u001b[39m.\u001b[39;49mbuilder\u001b[39m.\u001b[39;49mfeed(\u001b[39mself\u001b[39;49m\u001b[39m.\u001b[39;49mmarkup)\n\u001b[1;32m    452\u001b[0m \u001b[39m# Close out any unfinished strings and close all the open tags.\u001b[39;00m\n\u001b[1;32m    453\u001b[0m \u001b[39mself\u001b[39m\u001b[39m.\u001b[39mendData()\n",
      "File \u001b[0;32m~/opt/anaconda3/envs/openwpm/lib/python3.10/site-packages/bs4/builder/_lxml.py:378\u001b[0m, in \u001b[0;36mLXMLTreeBuilder.feed\u001b[0;34m(self, markup)\u001b[0m\n\u001b[1;32m    376\u001b[0m \u001b[39mtry\u001b[39;00m:\n\u001b[1;32m    377\u001b[0m     \u001b[39mself\u001b[39m\u001b[39m.\u001b[39mparser \u001b[39m=\u001b[39m \u001b[39mself\u001b[39m\u001b[39m.\u001b[39mparser_for(encoding)\n\u001b[0;32m--> 378\u001b[0m     \u001b[39mself\u001b[39;49m\u001b[39m.\u001b[39;49mparser\u001b[39m.\u001b[39;49mfeed(markup)\n\u001b[1;32m    379\u001b[0m     \u001b[39mself\u001b[39m\u001b[39m.\u001b[39mparser\u001b[39m.\u001b[39mclose()\n\u001b[1;32m    380\u001b[0m \u001b[39mexcept\u001b[39;00m (\u001b[39mUnicodeDecodeError\u001b[39;00m, \u001b[39mLookupError\u001b[39;00m, etree\u001b[39m.\u001b[39mParserError) \u001b[39mas\u001b[39;00m e:\n",
      "File \u001b[0;32msrc/lxml/parser.pxi:1256\u001b[0m, in \u001b[0;36mlxml.etree._FeedParser.feed\u001b[0;34m()\u001b[0m\n",
      "File \u001b[0;32msrc/lxml/parser.pxi:1376\u001b[0m, in \u001b[0;36mlxml.etree._FeedParser.feed\u001b[0;34m()\u001b[0m\n",
      "File \u001b[0;32msrc/lxml/parsertarget.pxi:168\u001b[0m, in \u001b[0;36mlxml.etree._TargetParserContext._handleParseResult\u001b[0;34m()\u001b[0m\n",
      "File \u001b[0;32msrc/lxml/parsertarget.pxi:156\u001b[0m, in \u001b[0;36mlxml.etree._TargetParserContext._handleParseResult\u001b[0;34m()\u001b[0m\n",
      "File \u001b[0;32msrc/lxml/etree.pyx:333\u001b[0m, in \u001b[0;36mlxml.etree._ExceptionContext._raise_if_stored\u001b[0;34m()\u001b[0m\n",
      "File \u001b[0;32msrc/lxml/saxparser.pxi:516\u001b[0m, in \u001b[0;36mlxml.etree._handleSaxEndNoNs\u001b[0;34m()\u001b[0m\n",
      "File \u001b[0;32msrc/lxml/parsertarget.pxi:99\u001b[0m, in \u001b[0;36mlxml.etree._PythonSaxParserTarget._handleSaxEnd\u001b[0;34m()\u001b[0m\n",
      "File \u001b[0;32m~/opt/anaconda3/envs/openwpm/lib/python3.10/site-packages/bs4/builder/_lxml.py:316\u001b[0m, in \u001b[0;36mLXMLTreeBuilderForXML.end\u001b[0;34m(self, name)\u001b[0m\n\u001b[1;32m    315\u001b[0m \u001b[39mdef\u001b[39;00m \u001b[39mend\u001b[39m(\u001b[39mself\u001b[39m, name):\n\u001b[0;32m--> 316\u001b[0m     \u001b[39mself\u001b[39;49m\u001b[39m.\u001b[39;49msoup\u001b[39m.\u001b[39;49mendData()\n\u001b[1;32m    317\u001b[0m     completed_tag \u001b[39m=\u001b[39m \u001b[39mself\u001b[39m\u001b[39m.\u001b[39msoup\u001b[39m.\u001b[39mtagStack[\u001b[39m-\u001b[39m\u001b[39m1\u001b[39m]\n\u001b[1;32m    318\u001b[0m     namespace, name \u001b[39m=\u001b[39m \u001b[39mself\u001b[39m\u001b[39m.\u001b[39m_getNsTag(name)\n",
      "File \u001b[0;32m~/opt/anaconda3/envs/openwpm/lib/python3.10/site-packages/bs4/__init__.py:590\u001b[0m, in \u001b[0;36mBeautifulSoup.endData\u001b[0;34m(self, containerClass)\u001b[0m\n\u001b[1;32m    588\u001b[0m containerClass \u001b[39m=\u001b[39m \u001b[39mself\u001b[39m\u001b[39m.\u001b[39mstring_container(containerClass)\n\u001b[1;32m    589\u001b[0m o \u001b[39m=\u001b[39m containerClass(current_data)\n\u001b[0;32m--> 590\u001b[0m \u001b[39mself\u001b[39;49m\u001b[39m.\u001b[39;49mobject_was_parsed(o)\n",
      "File \u001b[0;32m~/opt/anaconda3/envs/openwpm/lib/python3.10/site-packages/bs4/__init__.py:611\u001b[0m, in \u001b[0;36mBeautifulSoup.object_was_parsed\u001b[0;34m(self, o, parent, most_recent_element)\u001b[0m\n\u001b[1;32m    607\u001b[0m         previous_element \u001b[39m=\u001b[39m o\u001b[39m.\u001b[39mprevious_element\n\u001b[1;32m    609\u001b[0m fix \u001b[39m=\u001b[39m parent\u001b[39m.\u001b[39mnext_element \u001b[39mis\u001b[39;00m \u001b[39mnot\u001b[39;00m \u001b[39mNone\u001b[39;00m\n\u001b[0;32m--> 611\u001b[0m o\u001b[39m.\u001b[39;49msetup(parent, previous_element, next_element, previous_sibling, next_sibling)\n\u001b[1;32m    613\u001b[0m \u001b[39mself\u001b[39m\u001b[39m.\u001b[39m_most_recent_element \u001b[39m=\u001b[39m o\n\u001b[1;32m    614\u001b[0m parent\u001b[39m.\u001b[39mcontents\u001b[39m.\u001b[39mappend(o)\n",
      "File \u001b[0;32m~/opt/anaconda3/envs/openwpm/lib/python3.10/site-packages/bs4/element.py:183\u001b[0m, in \u001b[0;36mPageElement.setup\u001b[0;34m(self, parent, previous_element, next_element, previous_sibling, next_sibling)\u001b[0m\n\u001b[1;32m    180\u001b[0m     \u001b[39mself\u001b[39m\u001b[39m.\u001b[39mprevious_element\u001b[39m.\u001b[39mnext_element \u001b[39m=\u001b[39m \u001b[39mself\u001b[39m\n\u001b[1;32m    182\u001b[0m \u001b[39mself\u001b[39m\u001b[39m.\u001b[39mnext_element \u001b[39m=\u001b[39m next_element\n\u001b[0;32m--> 183\u001b[0m \u001b[39mif\u001b[39;00m \u001b[39mself\u001b[39m\u001b[39m.\u001b[39mnext_element \u001b[39mis\u001b[39;00m \u001b[39mnot\u001b[39;00m \u001b[39mNone\u001b[39;00m:\n\u001b[1;32m    184\u001b[0m     \u001b[39mself\u001b[39m\u001b[39m.\u001b[39mnext_element\u001b[39m.\u001b[39mprevious_element \u001b[39m=\u001b[39m \u001b[39mself\u001b[39m\n\u001b[1;32m    186\u001b[0m \u001b[39mself\u001b[39m\u001b[39m.\u001b[39mnext_sibling \u001b[39m=\u001b[39m next_sibling\n",
      "\u001b[0;31mKeyboardInterrupt\u001b[0m: "
     ]
    }
   ],
   "source": [
    "results_fake = FeaturesFetcher.get_features(resp = fake, desired_features=[\"html_features\", \"domain_features\", \"cert_features\", \"whois_features\"])"
   ]
  },
  {
   "cell_type": "code",
   "execution_count": 21,
   "metadata": {},
   "outputs": [],
   "source": [
    "results_fake[\"target\"] = [\"disinformation\"]*len(results_fake)\n",
    "path_to_save = os.path.join(os.path.dirname(os.getcwd()), \"results\", \"db_features\", \"FK_features.csv\")\n",
    "# results_fake.to_csv(path_to_save)"
   ]
  },
  {
   "cell_type": "code",
   "execution_count": 4,
   "metadata": {},
   "outputs": [],
   "source": [
    "path_to_save = os.path.join(os.path.dirname(os.getcwd()), \"results\", \"db_features\", \"FK_features.csv\")\n",
    "results_fake = pd.read_csv(path_to_save)"
   ]
  },
  {
   "cell_type": "code",
   "execution_count": 7,
   "metadata": {},
   "outputs": [
    {
     "name": "stderr",
     "output_type": "stream",
     "text": [
      "MetadataParser.fetch_url(http://rutan.dev)\n"
     ]
    },
    {
     "ename": "KeyboardInterrupt",
     "evalue": "",
     "output_type": "error",
     "traceback": [
      "\u001b[0;31m---------------------------------------------------------------------------\u001b[0m",
      "\u001b[0;31mKeyboardInterrupt\u001b[0m                         Traceback (most recent call last)",
      "Cell \u001b[0;32mIn[7], line 1\u001b[0m\n\u001b[0;32m----> 1\u001b[0m results_not_fake_ \u001b[39m=\u001b[39m FeaturesFetcher\u001b[39m.\u001b[39;49mget_features(resp \u001b[39m=\u001b[39;49m not_fake, desired_features\u001b[39m=\u001b[39;49m[\u001b[39m\"\u001b[39;49m\u001b[39mhtml_features\u001b[39;49m\u001b[39m\"\u001b[39;49m, \u001b[39m\"\u001b[39;49m\u001b[39mdomain_features\u001b[39;49m\u001b[39m\"\u001b[39;49m, \u001b[39m\"\u001b[39;49m\u001b[39mcert_features\u001b[39;49m\u001b[39m\"\u001b[39;49m, \u001b[39m\"\u001b[39;49m\u001b[39mwhois_features\u001b[39;49m\u001b[39m\"\u001b[39;49m])\n",
      "File \u001b[0;32m~/model/Project/make_features_DB.py:102\u001b[0m, in \u001b[0;36mFeaturesFetcher.get_features\u001b[0;34m(resp, desired_features)\u001b[0m\n\u001b[1;32m     96\u001b[0m     features \u001b[39m=\u001b[39m CertificateFeatures\u001b[39m.\u001b[39mget_features(feature_names\u001b[39m=\u001b[39mfeature_names,\n\u001b[1;32m     97\u001b[0m                                             raw_data\u001b[39m=\u001b[39mFeaturesFetcher\u001b[39m.\u001b[39mfetch_certificate(row\u001b[39m.\u001b[39mdomain),\n\u001b[1;32m     98\u001b[0m                                             available\u001b[39m=\u001b[39m\u001b[39mTrue\u001b[39;00m,\n\u001b[1;32m     99\u001b[0m                                             domain\u001b[39m=\u001b[39mrow\u001b[39m.\u001b[39mdomain)\n\u001b[1;32m    100\u001b[0m \u001b[39melif\u001b[39;00m name \u001b[39m==\u001b[39m \u001b[39m'\u001b[39m\u001b[39mwhois_features\u001b[39m\u001b[39m'\u001b[39m: \n\u001b[1;32m    101\u001b[0m     features \u001b[39m=\u001b[39m WhoisFeatures\u001b[39m.\u001b[39mget_features(feature_names \u001b[39m=\u001b[39m feature_names,\n\u001b[0;32m--> 102\u001b[0m                                           raw_data \u001b[39m=\u001b[39m FeaturesFetcher\u001b[39m.\u001b[39;49mfetch_whois(row\u001b[39m.\u001b[39;49mdomain),\n\u001b[1;32m    103\u001b[0m                                           available\u001b[39m=\u001b[39m\u001b[39mTrue\u001b[39;00m,\n\u001b[1;32m    104\u001b[0m                                           domain \u001b[39m=\u001b[39m row\u001b[39m.\u001b[39mdomain)\n\u001b[1;32m    105\u001b[0m \u001b[39melse\u001b[39;00m:\n\u001b[1;32m    106\u001b[0m     features \u001b[39m=\u001b[39m pd\u001b[39m.\u001b[39mDataFrame()\n",
      "File \u001b[0;32m~/model/Project/make_features_DB.py:64\u001b[0m, in \u001b[0;36mFeaturesFetcher.fetch_whois\u001b[0;34m(domain)\u001b[0m\n\u001b[1;32m     61\u001b[0m \u001b[39m@staticmethod\u001b[39m\n\u001b[1;32m     62\u001b[0m \u001b[39mdef\u001b[39;00m \u001b[39mfetch_whois\u001b[39m(domain):\n\u001b[1;32m     63\u001b[0m     \u001b[39mtry\u001b[39;00m:\n\u001b[0;32m---> 64\u001b[0m         obj \u001b[39m=\u001b[39m whois\u001b[39m.\u001b[39;49mwhois(domain)\n\u001b[1;32m     65\u001b[0m         raw_data \u001b[39m=\u001b[39m obj\u001b[39m.\u001b[39mtext\n\u001b[1;32m     66\u001b[0m     \u001b[39mexcept\u001b[39;00m \u001b[39mException\u001b[39;00m \u001b[39mas\u001b[39;00m e:\n",
      "File \u001b[0;32m~/opt/anaconda3/envs/openwpm/lib/python3.10/site-packages/whois/__init__.py:51\u001b[0m, in \u001b[0;36mwhois\u001b[0;34m(url, command, flags, executable)\u001b[0m\n\u001b[1;32m     48\u001b[0m \u001b[39melse\u001b[39;00m:\n\u001b[1;32m     49\u001b[0m     \u001b[39m# try builtin client\u001b[39;00m\n\u001b[1;32m     50\u001b[0m     nic_client \u001b[39m=\u001b[39m NICClient()\n\u001b[0;32m---> 51\u001b[0m     text \u001b[39m=\u001b[39m nic_client\u001b[39m.\u001b[39;49mwhois_lookup(\u001b[39mNone\u001b[39;49;00m, domain\u001b[39m.\u001b[39;49mencode(\u001b[39m'\u001b[39;49m\u001b[39midna\u001b[39;49m\u001b[39m'\u001b[39;49m), flags)\n\u001b[1;32m     52\u001b[0m \u001b[39mreturn\u001b[39;00m WhoisEntry\u001b[39m.\u001b[39mload(domain, text)\n",
      "File \u001b[0;32m~/opt/anaconda3/envs/openwpm/lib/python3.10/site-packages/whois/whois.py:322\u001b[0m, in \u001b[0;36mNICClient.whois_lookup\u001b[0;34m(self, options, query_arg, flags, quiet)\u001b[0m\n\u001b[1;32m    320\u001b[0m nichost \u001b[39m=\u001b[39m \u001b[39mself\u001b[39m\u001b[39m.\u001b[39mchoose_server(query_arg)\n\u001b[1;32m    321\u001b[0m \u001b[39mif\u001b[39;00m nichost \u001b[39mis\u001b[39;00m \u001b[39mnot\u001b[39;00m \u001b[39mNone\u001b[39;00m:\n\u001b[0;32m--> 322\u001b[0m     result \u001b[39m=\u001b[39m \u001b[39mself\u001b[39;49m\u001b[39m.\u001b[39;49mwhois(query_arg, nichost, flags, quiet\u001b[39m=\u001b[39;49mquiet)\n\u001b[1;32m    323\u001b[0m \u001b[39melse\u001b[39;00m:\n\u001b[1;32m    324\u001b[0m     result \u001b[39m=\u001b[39m \u001b[39m'\u001b[39m\u001b[39m'\u001b[39m\n",
      "File \u001b[0;32m~/opt/anaconda3/envs/openwpm/lib/python3.10/site-packages/whois/whois.py:194\u001b[0m, in \u001b[0;36mNICClient.whois\u001b[0;34m(self, query, hostname, flags, many_results, quiet)\u001b[0m\n\u001b[1;32m    192\u001b[0m         nhost \u001b[39m=\u001b[39m \u001b[39mself\u001b[39m\u001b[39m.\u001b[39mfindwhois_server(response, hostname, query)\n\u001b[1;32m    193\u001b[0m     \u001b[39mif\u001b[39;00m nhost \u001b[39mis\u001b[39;00m \u001b[39mnot\u001b[39;00m \u001b[39mNone\u001b[39;00m:\n\u001b[0;32m--> 194\u001b[0m         response \u001b[39m+\u001b[39m\u001b[39m=\u001b[39m \u001b[39mself\u001b[39;49m\u001b[39m.\u001b[39;49mwhois(query, nhost, \u001b[39m0\u001b[39;49m, quiet\u001b[39m=\u001b[39;49m\u001b[39mTrue\u001b[39;49;00m)\n\u001b[1;32m    195\u001b[0m \u001b[39mexcept\u001b[39;00m socket\u001b[39m.\u001b[39merror \u001b[39mas\u001b[39;00m exc: \u001b[39m# 'response' is assigned a value (also a str) even on socket timeout\u001b[39;00m\n\u001b[1;32m    196\u001b[0m     \u001b[39mif\u001b[39;00m \u001b[39mnot\u001b[39;00m quiet:\n",
      "File \u001b[0;32m~/opt/anaconda3/envs/openwpm/lib/python3.10/site-packages/whois/whois.py:181\u001b[0m, in \u001b[0;36mNICClient.whois\u001b[0;34m(self, query, hostname, flags, many_results, quiet)\u001b[0m\n\u001b[1;32m    179\u001b[0m \u001b[39m# recv returns bytes\u001b[39;00m\n\u001b[1;32m    180\u001b[0m \u001b[39mwhile\u001b[39;00m \u001b[39mTrue\u001b[39;00m:\n\u001b[0;32m--> 181\u001b[0m     d \u001b[39m=\u001b[39m s\u001b[39m.\u001b[39;49mrecv(\u001b[39m4096\u001b[39;49m)\n\u001b[1;32m    182\u001b[0m     response \u001b[39m+\u001b[39m\u001b[39m=\u001b[39m d\n\u001b[1;32m    183\u001b[0m     \u001b[39mif\u001b[39;00m \u001b[39mnot\u001b[39;00m d:\n",
      "\u001b[0;31mKeyboardInterrupt\u001b[0m: "
     ]
    }
   ],
   "source": [
    "results_not_fake_ = FeaturesFetcher.get_features(resp = not_fake, desired_features=[\"html_features\", \"domain_features\", \"cert_features\", \"whois_features\"])"
   ]
  },
  {
   "cell_type": "code",
   "execution_count": 7,
   "metadata": {},
   "outputs": [],
   "source": [
    "results_not_fake_.to_csv(path_to_save_2)"
   ]
  }
 ],
 "metadata": {
  "kernelspec": {
   "display_name": "openwpm",
   "language": "python",
   "name": "python3"
  },
  "language_info": {
   "codemirror_mode": {
    "name": "ipython",
    "version": 3
   },
   "file_extension": ".py",
   "mimetype": "text/x-python",
   "name": "python",
   "nbconvert_exporter": "python",
   "pygments_lexer": "ipython3",
   "version": "3.10.6"
  },
  "orig_nbformat": 4
 },
 "nbformat": 4,
 "nbformat_minor": 2
}
